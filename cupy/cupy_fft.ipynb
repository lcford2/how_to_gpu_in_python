{
 "cells": [
  {
   "cell_type": "code",
   "execution_count": null,
   "id": "4102d554",
   "metadata": {},
   "outputs": [],
   "source": [
    "import cupy as cp\n",
    "import matplotlib\n",
    "import matplotlib.pyplot as plt"
   ]
  },
  {
   "cell_type": "code",
   "execution_count": null,
   "id": "3df8d992",
   "metadata": {},
   "outputs": [],
   "source": [
    "t = cp.arange(128)\n",
    "# copy host numpy array to cupy gpu device\n",
    "#   ( not performant for this small case, just for demonstrating the concept)\n",
    "# ideally, there would be many cupy calls with large arrays\n",
    "# (millions of elements)\n",
    "t_gpu = cp.asarray(t)\n",
    "sp_gpu = cp.fft.fft(cp.sin(t_gpu))\n",
    "freq_gpu = cp.fft.fftfreq(t_gpu.shape[-1])"
   ]
  },
  {
   "cell_type": "code",
   "execution_count": null,
   "id": "2a806f72",
   "metadata": {},
   "outputs": [],
   "source": [
    "# copy cupy gpu based arrays back to host numpy environment for plotting\n",
    "sp = cp.asnumpy(sp_gpu)\n",
    "freq = cp.asnumpy(freq_gpu)"
   ]
  },
  {
   "cell_type": "code",
   "execution_count": null,
   "id": "a49762f6",
   "metadata": {},
   "outputs": [],
   "source": [
    "plt.plot(freq, sp.real, freq, sp.imag)\n",
    "plt.savefig('cupy_fft.png')\n",
    "plt.show()"
   ]
  },
  {
   "cell_type": "code",
   "execution_count": null,
   "id": "240e5f2d",
   "metadata": {},
   "outputs": [],
   "source": []
  }
 ],
 "metadata": {
  "kernelspec": {
   "display_name": "Python 3",
   "language": "python",
   "name": "python3"
  },
  "language_info": {
   "codemirror_mode": {
    "name": "ipython",
    "version": 3
   },
   "file_extension": ".py",
   "mimetype": "text/x-python",
   "name": "python",
   "nbconvert_exporter": "python",
   "pygments_lexer": "ipython3",
   "version": "3.8.5"
  }
 },
 "nbformat": 4,
 "nbformat_minor": 5
}
