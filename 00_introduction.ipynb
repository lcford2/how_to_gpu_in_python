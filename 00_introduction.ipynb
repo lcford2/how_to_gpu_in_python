{
 "cells": [
  {
   "cell_type": "markdown",
   "id": "associate-battlefield",
   "metadata": {},
   "source": [
    "# GPU and Python programming\n",
    "\n",
    "GPUs possess enormous computing capabilities but are known for being not trivial to master. Python, on the other hand, is one of the most popular programming languages in the scientific community precisely because it is extremely flexible and easy to learn. This workshop discusses various ways to take advantage of both of these languages."
   ]
  },
  {
   "cell_type": "code",
   "execution_count": null,
   "id": "banner-scope",
   "metadata": {},
   "outputs": [],
   "source": []
  }
 ],
 "metadata": {
  "kernelspec": {
   "display_name": "Python 3",
   "language": "python",
   "name": "python3"
  },
  "language_info": {
   "codemirror_mode": {
    "name": "ipython",
    "version": 3
   },
   "file_extension": ".py",
   "mimetype": "text/x-python",
   "name": "python",
   "nbconvert_exporter": "python",
   "pygments_lexer": "ipython3",
   "version": "3.8.5"
  }
 },
 "nbformat": 4,
 "nbformat_minor": 5
}
