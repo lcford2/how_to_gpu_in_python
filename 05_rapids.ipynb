{
 "cells": [
  {
   "cell_type": "code",
   "execution_count": 1,
   "id": "fa9f77cf",
   "metadata": {},
   "outputs": [
    {
     "name": "stdout",
     "output_type": "stream",
     "text": [
      "Once deleted, variables cannot be recovered. Proceed (y/[n])? y\n"
     ]
    }
   ],
   "source": [
    "%reset"
   ]
  },
  {
   "cell_type": "markdown",
   "id": "54b0ddb5",
   "metadata": {},
   "source": [
    "## Dataframe processing with cuDF\n",
    "\n",
    "<!--\n",
    "01234567890123456789012345678901234567890123456789012345678901234567890123456789\n",
    "-->\n",
    "\n",
    "[cuDF](https://github.com/rapidsai/cudf) provides a drop in replacement for the \n",
    "[pandas](https://pandas.pydata.org/) data analysis package.\n",
    "\n",
    "cuDF makes the compute resourcesin GPGPUs accessible when manipulating\n",
    "time-series and matrix data. It is build on and compatible with cupy and numpy \n",
    "and supports both numerical and textual data.\n",
    "\n",
    "This section assumes that you are already familar with pandas and aims to\n",
    "demonstrate how cuDF can be used instead.\n",
    "\n",
    "A very nice, extended presentation similar to this was presented at\n",
    "[NERSC](https://www.nersc.gov/users/training/events/rapids-hackathon/) and parts\n",
    "of this material are based on that prior presentation."
   ]
  },
  {
   "cell_type": "markdown",
   "id": "4a88bd47",
   "metadata": {},
   "source": [
    "### cuDF as a drop in replacement for pandas\n",
    "\n",
    "<!--\n",
    "01234567890123456789012345678901234567890123456789012345678901234567890123456789\n",
    "-->\n",
    "\n",
    "cuDF implements many of pandas' interfaces and in many cases it can be used as a\n",
    "drop-in replacement for Pandas by simply changing from `import pandas` to\n",
    "`import cudf`, but see its [compatibility notes](https://docs.rapids.ai/api/cudf/stable/basics/PandasCompat.html)."
   ]
  },
  {
   "cell_type": "markdown",
   "id": "40a20fd8",
   "metadata": {},
   "source": [
    "First let's create a simple dataframe with two columns named \"key\" and \"value\""
   ]
  },
  {
   "cell_type": "code",
   "execution_count": 2,
   "id": "1d47cba6",
   "metadata": {
    "scrolled": true
   },
   "outputs": [
    {
     "name": "stdout",
     "output_type": "stream",
     "text": [
      "   value1  value2\n",
      "0       0    10.0\n",
      "1       0    11.0\n",
      "2       2    12.0\n",
      "3       2    13.0\n",
      "4       3    14.0\n"
     ]
    }
   ],
   "source": [
    "import pandas as pd\n",
    "\n",
    "df = pd.DataFrame()\n",
    "df['value1'] = [0, 0, 2, 2, 3]\n",
    "df['value2'] = [float(i + 10) for i in range(5)]\n",
    "print(df)"
   ]
  },
  {
   "cell_type": "markdown",
   "id": "ff6782f3",
   "metadata": {},
   "source": [
    "and compute some reduction over a column of data"
   ]
  },
  {
   "cell_type": "code",
   "execution_count": 3,
   "id": "5c0c7ddf",
   "metadata": {},
   "outputs": [
    {
     "data": {
      "text/plain": [
       "60.0"
      ]
     },
     "execution_count": 3,
     "metadata": {},
     "output_type": "execute_result"
    }
   ],
   "source": [
    "df['value2'].sum()"
   ]
  },
  {
   "cell_type": "markdown",
   "id": "b3c0d693",
   "metadata": {},
   "source": [
    "Next the same code using cuDF"
   ]
  },
  {
   "cell_type": "code",
   "execution_count": 4,
   "id": "0cdfb9fd",
   "metadata": {},
   "outputs": [
    {
     "name": "stdout",
     "output_type": "stream",
     "text": [
      "   value1  value2\n",
      "0       0    10.0\n",
      "1       0    11.0\n",
      "2       2    12.0\n",
      "3       2    13.0\n",
      "4       3    14.0\n"
     ]
    }
   ],
   "source": [
    "import cudf\n",
    "\n",
    "df = cudf.DataFrame()\n",
    "df['value1'] = [0, 0, 2, 2, 3]\n",
    "df['value2'] = [float(i + 10) for i in range(5)]\n",
    "print(df)"
   ]
  },
  {
   "cell_type": "code",
   "execution_count": 5,
   "id": "f8658594",
   "metadata": {},
   "outputs": [
    {
     "data": {
      "text/plain": [
       "60.0"
      ]
     },
     "execution_count": 5,
     "metadata": {},
     "output_type": "execute_result"
    }
   ],
   "source": [
    "df['value2'].sum()"
   ]
  },
  {
   "cell_type": "markdown",
   "id": "55779939",
   "metadata": {},
   "source": [
    "However cuDF data frames are stored in GPU memory and use `cupy` under the hood:"
   ]
  },
  {
   "cell_type": "code",
   "execution_count": 6,
   "id": "16cbcbe9",
   "metadata": {},
   "outputs": [
    {
     "name": "stdout",
     "output_type": "stream",
     "text": [
      "cuDF\n",
      "<class 'cudf.core.dataframe.DataFrame'>\n",
      "<class 'cupy.core.core.ndarray'>\n"
     ]
    }
   ],
   "source": [
    "print(\"cuDF\")\n",
    "print(type(df))\n",
    "print(type(df['value2'].values))"
   ]
  },
  {
   "cell_type": "markdown",
   "id": "30b36df4",
   "metadata": {},
   "source": [
    "### Conversion to / from pandas, cupy or numpy arrays"
   ]
  },
  {
   "cell_type": "markdown",
   "id": "6b0a2fbd",
   "metadata": {},
   "source": [
    "If needed cuDF objects can be converted and from `pandas` and `numpy`."
   ]
  },
  {
   "cell_type": "code",
   "execution_count": 7,
   "id": "2f1cc0fc",
   "metadata": {},
   "outputs": [
    {
     "name": "stdout",
     "output_type": "stream",
     "text": [
      "Pandas from cuDF\n",
      "<class 'pandas.core.frame.DataFrame'>\n",
      "   value1  value2\n",
      "0       0    10.0\n",
      "1       0    11.0\n",
      "2       2    12.0\n",
      "3       2    13.0\n",
      "4       3    14.0\n"
     ]
    }
   ],
   "source": [
    "pandas_df = df.to_pandas()\n",
    "print(\"Pandas from cuDF\")\n",
    "print(type(pandas_df))\n",
    "print(pandas_df)"
   ]
  },
  {
   "cell_type": "code",
   "execution_count": 8,
   "id": "0e8a10b1",
   "metadata": {},
   "outputs": [
    {
     "name": "stdout",
     "output_type": "stream",
     "text": [
      "cuDF from Pandas\n",
      "<class 'cudf.core.dataframe.DataFrame'>\n",
      "   value1  value2\n",
      "0       0    10.0\n",
      "1       0    11.0\n",
      "2       2    12.0\n",
      "3       2    13.0\n",
      "4       3    14.0\n"
     ]
    }
   ],
   "source": [
    "df = cudf.from_pandas(pandas_df)\n",
    "print(\"cuDF from Pandas\")\n",
    "print(type(df))\n",
    "print(df)"
   ]
  },
  {
   "cell_type": "code",
   "execution_count": 9,
   "id": "f6618b54",
   "metadata": {},
   "outputs": [
    {
     "name": "stdout",
     "output_type": "stream",
     "text": [
      "cupy from cudf\n",
      "<class 'cupy.core.core.ndarray'>\n",
      "[[ 0. 10.]\n",
      " [ 0. 11.]\n",
      " [ 2. 12.]\n",
      " [ 2. 13.]\n",
      " [ 3. 14.]]\n",
      "numpy from cudf\n",
      "<class 'numpy.ndarray'>\n",
      "[[ 0. 10.]\n",
      " [ 0. 11.]\n",
      " [ 2. 12.]\n",
      " [ 2. 13.]\n",
      " [ 3. 14.]]\n"
     ]
    }
   ],
   "source": [
    "cupy_ndarray =  df.values\n",
    "print(\"cupy from cudf\")\n",
    "print(type(cupy_ndarray))\n",
    "print(cupy_ndarray)\n",
    "\n",
    "print(\"numpy from cudf\")\n",
    "numpy_ndarray = df.values.get()\n",
    "print(type(numpy_ndarray))\n",
    "print(numpy_ndarray)"
   ]
  },
  {
   "cell_type": "markdown",
   "id": "dd154193",
   "metadata": {},
   "source": [
    "### Operating on cuDF data\n",
    "\n",
    "<!--\n",
    "01234567890123456789012345678901234567890123456789012345678901234567890123456789\n",
    "-->\n",
    "cuDF supports custom, user supplied operations on data that use `numba` jit\n",
    "compiler to translate Python code to GPU code."
   ]
  },
  {
   "cell_type": "code",
   "execution_count": 29,
   "id": "7d8e0abe",
   "metadata": {},
   "outputs": [],
   "source": [
    "from numba import cuda\n",
    "import numpy as np\n",
    "import math"
   ]
  },
  {
   "cell_type": "code",
   "execution_count": 54,
   "id": "9bdbd8fd",
   "metadata": {},
   "outputs": [
    {
     "data": {
      "text/html": [
       "<div>\n",
       "<style scoped>\n",
       "    .dataframe tbody tr th:only-of-type {\n",
       "        vertical-align: middle;\n",
       "    }\n",
       "\n",
       "    .dataframe tbody tr th {\n",
       "        vertical-align: top;\n",
       "    }\n",
       "\n",
       "    .dataframe thead th {\n",
       "        text-align: right;\n",
       "    }\n",
       "</style>\n",
       "<table border=\"1\" class=\"dataframe\">\n",
       "  <thead>\n",
       "    <tr style=\"text-align: right;\">\n",
       "      <th></th>\n",
       "      <th>x</th>\n",
       "      <th>y</th>\n",
       "      <th>z</th>\n",
       "    </tr>\n",
       "  </thead>\n",
       "  <tbody>\n",
       "    <tr>\n",
       "      <th>0</th>\n",
       "      <td>10.496714</td>\n",
       "      <td>11.399355</td>\n",
       "      <td>9.324822</td>\n",
       "    </tr>\n",
       "    <tr>\n",
       "      <th>1</th>\n",
       "      <td>9.861736</td>\n",
       "      <td>10.924634</td>\n",
       "      <td>9.855481</td>\n",
       "    </tr>\n",
       "    <tr>\n",
       "      <th>2</th>\n",
       "      <td>10.647689</td>\n",
       "      <td>10.059630</td>\n",
       "      <td>9.207580</td>\n",
       "    </tr>\n",
       "    <tr>\n",
       "      <th>3</th>\n",
       "      <td>11.523030</td>\n",
       "      <td>9.353063</td>\n",
       "      <td>9.692038</td>\n",
       "    </tr>\n",
       "    <tr>\n",
       "      <th>4</th>\n",
       "      <td>9.765847</td>\n",
       "      <td>10.698223</td>\n",
       "      <td>8.106385</td>\n",
       "    </tr>\n",
       "    <tr>\n",
       "      <th>5</th>\n",
       "      <td>9.765863</td>\n",
       "      <td>10.393485</td>\n",
       "      <td>10.213294</td>\n",
       "    </tr>\n",
       "    <tr>\n",
       "      <th>6</th>\n",
       "      <td>11.579213</td>\n",
       "      <td>10.895193</td>\n",
       "      <td>10.001205</td>\n",
       "    </tr>\n",
       "    <tr>\n",
       "      <th>7</th>\n",
       "      <td>10.767435</td>\n",
       "      <td>10.635172</td>\n",
       "      <td>9.182911</td>\n",
       "    </tr>\n",
       "    <tr>\n",
       "      <th>8</th>\n",
       "      <td>9.530526</td>\n",
       "      <td>11.049553</td>\n",
       "      <td>10.659246</td>\n",
       "    </tr>\n",
       "    <tr>\n",
       "      <th>9</th>\n",
       "      <td>10.542560</td>\n",
       "      <td>9.464765</td>\n",
       "      <td>10.937570</td>\n",
       "    </tr>\n",
       "  </tbody>\n",
       "</table>\n",
       "</div>"
      ],
      "text/plain": [
       "           x          y          z\n",
       "0  10.496714  11.399355   9.324822\n",
       "1   9.861736  10.924634   9.855481\n",
       "2  10.647689  10.059630   9.207580\n",
       "3  11.523030   9.353063   9.692038\n",
       "4   9.765847  10.698223   8.106385\n",
       "5   9.765863  10.393485  10.213294\n",
       "6  11.579213  10.895193  10.001205\n",
       "7  10.767435  10.635172   9.182911\n",
       "8   9.530526  11.049553  10.659246\n",
       "9  10.542560   9.464765  10.937570"
      ]
     },
     "execution_count": 54,
     "metadata": {},
     "output_type": "execute_result"
    }
   ],
   "source": [
    "np.random.seed(42)\n",
    "\n",
    "df = cudf.DataFrame()\n",
    "data_len = 1000\n",
    "df['x'] = np.random.normal(10., 1., data_len)\n",
    "df['y'] = np.random.normal(10., 1., data_len)\n",
    "df['z'] = np.random.normal(10., 1., data_len)\n",
    "\n",
    "df.head(10)"
   ]
  },
  {
   "cell_type": "markdown",
   "id": "38ea22f0",
   "metadata": {},
   "source": [
    "### Point wise operations using cuDF"
   ]
  },
  {
   "cell_type": "code",
   "execution_count": 55,
   "id": "e7b98e44",
   "metadata": {},
   "outputs": [
    {
     "name": "stdout",
     "output_type": "stream",
     "text": [
      "0    110.181008\n",
      "1     97.253831\n",
      "2    113.373271\n",
      "3    132.780217\n",
      "4     95.371760\n",
      "5     95.372081\n",
      "6    134.078169\n",
      "7    115.937651\n",
      "8     90.830918\n",
      "9    111.145572\n",
      "Name: x, dtype: float64\n"
     ]
    }
   ],
   "source": [
    "def my_pow2(x):\n",
    "    return x**2\n",
    "\n",
    "out = df['x'].applymap(my_pow2)\n",
    "\n",
    "print(out[:10])"
   ]
  },
  {
   "cell_type": "markdown",
   "id": "f3d35da7",
   "metadata": {},
   "source": [
    "### Point wise operations using numba directly\n",
    "\n",
    "Using the Numba [forall](https://numba.pydata.org/numba-doc/dev/cuda-reference/kernel.html#numba.cuda.compiler.Dispatcher.forall) utility function one can use more complex operations."
   ]
  },
  {
   "cell_type": "code",
   "execution_count": 56,
   "id": "dfd56552",
   "metadata": {
    "scrolled": true
   },
   "outputs": [
    {
     "name": "stdout",
     "output_type": "stream",
     "text": [
      "          out\n",
      "0  110.181008\n",
      "1   97.253831\n",
      "2  113.373271\n",
      "3  132.780217\n",
      "4   95.371760\n",
      "5   95.372081\n",
      "6  134.078169\n",
      "7  115.937651\n",
      "8   90.830918\n",
      "9  111.145572\n"
     ]
    }
   ],
   "source": [
    "@cuda.jit\n",
    "def my_pow2(x, out):\n",
    "    i = cuda.grid(1)\n",
    "    if i < x.size: # boundary guard\n",
    "        out[i] = x[i]**2\n",
    "\n",
    "out    = cudf.DataFrame()\n",
    "out['out'] = np.zeros(len(df['x']), dtype=np.float64)\n",
    "my_pow2.forall(len(df['x']))(df['x'], out['out'])\n",
    "\n",
    "print(out[:10])"
   ]
  },
  {
   "cell_type": "markdown",
   "id": "bedfe3cf",
   "metadata": {},
   "source": [
    "### Row wise operations using cuDF"
   ]
  },
  {
   "cell_type": "markdown",
   "id": "7452590f",
   "metadata": {},
   "source": [
    "<!--\n",
    "01234567890123456789012345678901234567890123456789012345678901234567890123456789\n",
    "-->\n",
    "A simpleway to process data is to apply a given function row-wise to data and\n",
    "append the result to the dataframe."
   ]
  },
  {
   "cell_type": "code",
   "execution_count": 57,
   "id": "80a978da",
   "metadata": {},
   "outputs": [
    {
     "name": "stdout",
     "output_type": "stream",
     "text": [
      "           x          y          z        out  thread\n",
      "0  10.496714  11.399355   9.324822  18.085315       0\n",
      "1   9.861736  10.924634   9.855481  17.712480       1\n",
      "2  10.647689  10.059630   9.207580  17.301704       2\n",
      "3  11.523030   9.353063   9.692038  17.725564       3\n",
      "4   9.765847  10.698223   8.106385  16.599314       4\n",
      "5   9.765863  10.393485  10.213294  17.541607       5\n",
      "6  11.579213  10.895193  10.001205  18.783171       6\n",
      "7  10.767435  10.635172   9.182911  17.702271       7\n",
      "8   9.530526  11.049553  10.659246  18.070502       8\n",
      "9  10.542560   9.464765  10.937570  17.898541       9\n"
     ]
    }
   ],
   "source": [
    "def my_sqrt(x_in, y_in, z_in, out, thread, n):\n",
    "    for i, (x,y,z) in enumerate(zip(x_in, y_in, z_in)):\n",
    "        out[i] = (x**n+y**n+z**n)**(1./n)\n",
    "        thread[i] = cuda.threadIdx.x\n",
    "    \n",
    "out = df.apply_rows(my_sqrt,\n",
    "                    incols={'x':'x_in', 'y':'y_in', 'z':'z_in'},\n",
    "                    outcols={'out':np.float64, 'thread':np.int32},\n",
    "                    kwargs={'n': 2})\n",
    "print(out[:10])"
   ]
  },
  {
   "cell_type": "markdown",
   "id": "96d86e61",
   "metadata": {},
   "source": [
    "<!--\n",
    "01234567890123456789012345678901234567890123456789012345678901234567890123456789\n",
    "-->\n",
    "Depending on how the number of threads available on the GPU and the size of the\n",
    "array, a thread may end up processing multiple rows, that themselves may or may\n",
    "not be coongiuous."
   ]
  },
  {
   "cell_type": "code",
   "execution_count": 15,
   "id": "a9f0a8b1",
   "metadata": {},
   "outputs": [
    {
     "name": "stdout",
     "output_type": "stream",
     "text": [
      "             x          y          z        out  thread\n",
      "0    10.496714  11.399355   9.324822  18.085315       0\n",
      "512   9.761052   9.283178  10.548884  17.109485       0\n",
      "            x         y          z        out  thread\n",
      "511  9.949762  9.806341  10.547265  17.504481     511\n"
     ]
    }
   ],
   "source": [
    "print(out[out['thread'] == 0])\n",
    "print(out[out['thread'] == 511])"
   ]
  },
  {
   "cell_type": "markdown",
   "id": "79c43e48",
   "metadata": {},
   "source": [
    "### Row wise operations using numba directly"
   ]
  },
  {
   "cell_type": "code",
   "execution_count": 16,
   "id": "ac113ec9",
   "metadata": {},
   "outputs": [
    {
     "name": "stdout",
     "output_type": "stream",
     "text": [
      "         out  thread\n",
      "0  18.085315       0\n",
      "1  17.712480       1\n",
      "2  17.301704       2\n",
      "3  17.725564       3\n",
      "4  16.599314       4\n",
      "5  17.541607       5\n",
      "6  18.783171       6\n",
      "7  17.702271       7\n",
      "8  18.070502       8\n",
      "9  17.898541       9\n"
     ]
    }
   ],
   "source": [
    "@cuda.jit\n",
    "def my_sqrt(x, y, z, out, thread, n):\n",
    "    i = cuda.grid(1)\n",
    "    if i < x.size: # boundary guard\n",
    "        out[i] = (x[i]**n+y[i]**n+z[i]**n)**(1./n)\n",
    "        thread[i] = cuda.threadIdx.x\n",
    "\n",
    "out    = cudf.DataFrame()\n",
    "out['out'] = np.zeros(len(df['x']), dtype=np.float64)\n",
    "out['thread'] = np.zeros(len(df['x']), dtype=np.int32)\n",
    "\n",
    "my_sqrt.forall(len(df['x']))(df['x'], df['y'], df['z'], out['out'], out['thread'], 2)\n",
    "\n",
    "print(out[:10])"
   ]
  },
  {
   "cell_type": "code",
   "execution_count": 17,
   "id": "b86ebbe1",
   "metadata": {},
   "outputs": [
    {
     "name": "stdout",
     "output_type": "stream",
     "text": [
      "           out  thread\n",
      "0    18.085315       0\n",
      "640  18.257649       0\n",
      "           out  thread\n",
      "511  17.504481     511\n"
     ]
    }
   ],
   "source": [
    "print(out[out['thread'] == 0])\n",
    "print(out[out['thread'] == 511])"
   ]
  },
  {
   "cell_type": "markdown",
   "id": "51858c39",
   "metadata": {},
   "source": [
    "### More complex manipulations"
   ]
  },
  {
   "cell_type": "code",
   "execution_count": 18,
   "id": "c34f15a6",
   "metadata": {},
   "outputs": [
    {
     "data": {
      "text/html": [
       "<div>\n",
       "<style scoped>\n",
       "    .dataframe tbody tr th:only-of-type {\n",
       "        vertical-align: middle;\n",
       "    }\n",
       "\n",
       "    .dataframe tbody tr th {\n",
       "        vertical-align: top;\n",
       "    }\n",
       "\n",
       "    .dataframe thead th {\n",
       "        text-align: right;\n",
       "    }\n",
       "</style>\n",
       "<table border=\"1\" class=\"dataframe\">\n",
       "  <thead>\n",
       "    <tr style=\"text-align: right;\">\n",
       "      <th></th>\n",
       "      <th>x</th>\n",
       "    </tr>\n",
       "  </thead>\n",
       "  <tbody>\n",
       "    <tr>\n",
       "      <th>0</th>\n",
       "      <td>1.0</td>\n",
       "    </tr>\n",
       "    <tr>\n",
       "      <th>1</th>\n",
       "      <td>2.0</td>\n",
       "    </tr>\n",
       "    <tr>\n",
       "      <th>2</th>\n",
       "      <td>3.0</td>\n",
       "    </tr>\n",
       "    <tr>\n",
       "      <th>3</th>\n",
       "      <td>4.0</td>\n",
       "    </tr>\n",
       "    <tr>\n",
       "      <th>4</th>\n",
       "      <td>5.0</td>\n",
       "    </tr>\n",
       "    <tr>\n",
       "      <th>5</th>\n",
       "      <td>6.0</td>\n",
       "    </tr>\n",
       "    <tr>\n",
       "      <th>6</th>\n",
       "      <td>7.0</td>\n",
       "    </tr>\n",
       "    <tr>\n",
       "      <th>7</th>\n",
       "      <td>8.0</td>\n",
       "    </tr>\n",
       "    <tr>\n",
       "      <th>8</th>\n",
       "      <td>9.0</td>\n",
       "    </tr>\n",
       "    <tr>\n",
       "      <th>9</th>\n",
       "      <td>10.0</td>\n",
       "    </tr>\n",
       "  </tbody>\n",
       "</table>\n",
       "</div>"
      ],
      "text/plain": [
       "      x\n",
       "0   1.0\n",
       "1   2.0\n",
       "2   3.0\n",
       "3   4.0\n",
       "4   5.0\n",
       "5   6.0\n",
       "6   7.0\n",
       "7   8.0\n",
       "8   9.0\n",
       "9  10.0"
      ]
     },
     "execution_count": 18,
     "metadata": {},
     "output_type": "execute_result"
    }
   ],
   "source": [
    "df = cudf.DataFrame()\n",
    "data_len = 1000\n",
    "df['x'] = np.arange(1., data_len+1)\n",
    "\n",
    "df.head(10)"
   ]
  },
  {
   "cell_type": "markdown",
   "id": "751af3e7",
   "metadata": {},
   "source": [
    "#### Moving average using cudf"
   ]
  },
  {
   "cell_type": "code",
   "execution_count": 19,
   "id": "5cbcb88f",
   "metadata": {},
   "outputs": [
    {
     "name": "stdout",
     "output_type": "stream",
     "text": [
      "0           <NA>\n",
      "1    4.666666667\n",
      "2    9.666666667\n",
      "3    16.66666667\n",
      "4    25.66666667\n",
      "5    36.66666667\n",
      "6    49.66666667\n",
      "7    64.66666667\n",
      "8    81.66666667\n",
      "9    100.6666667\n",
      "Name: x, dtype: float64\n"
     ]
    }
   ],
   "source": [
    "def my_moving_avg(window):\n",
    "    total = 0.\n",
    "    for a in window:\n",
    "        total += a**2\n",
    "    total /= len(window)\n",
    "    return total\n",
    "    \n",
    "dfr = df['x'].rolling(window=3,  center=True)\n",
    "out = dfr.apply(my_moving_avg)\n",
    "    \n",
    "print(out[:10])"
   ]
  },
  {
   "cell_type": "markdown",
   "id": "282638cc",
   "metadata": {},
   "source": [
    "#### Moving average using numba directly"
   ]
  },
  {
   "cell_type": "code",
   "execution_count": 20,
   "id": "cc6e0418",
   "metadata": {},
   "outputs": [
    {
     "name": "stdout",
     "output_type": "stream",
     "text": [
      "          out\n",
      "0         NaN\n",
      "1    4.666667\n",
      "2    9.666667\n",
      "3   16.666667\n",
      "4   25.666667\n",
      "5   36.666667\n",
      "6   49.666667\n",
      "7   64.666667\n",
      "8   81.666667\n",
      "9  100.666667\n"
     ]
    }
   ],
   "source": [
    "@cuda.jit\n",
    "def my_moving_avg(x, out):\n",
    "    i = cuda.grid(1)\n",
    "    if i < x.size:  # boundary guard\n",
    "        if i >= 1 and i < x.size-1:\n",
    "            total = 0.\n",
    "            for j in range(i-1, i+2):\n",
    "                total += x[j]**2\n",
    "            total /= 3\n",
    "        else:\n",
    "            total = math.nan\n",
    "        out[i] = total\n",
    "\n",
    "out    = cudf.DataFrame()\n",
    "out['out'] = np.zeros(len(df['x']), dtype=np.float64)\n",
    "\n",
    "my_moving_avg.forall(len(df['x']))(df['x'], out['out'])\n",
    "\n",
    "print(out[:10])"
   ]
  },
  {
   "cell_type": "markdown",
   "id": "e884dcfb",
   "metadata": {},
   "source": [
    "## Manipulating text with cuDF"
   ]
  },
  {
   "cell_type": "markdown",
   "id": "02d906c2",
   "metadata": {},
   "source": [
    "cudf has support to handle strings in dataframes, patterend after Pandas. For details please consult the [documentation](https://docs.rapids.ai/api/cudf/stable/api.html#strings)."
   ]
  },
  {
   "cell_type": "code",
   "execution_count": 21,
   "id": "edde8165",
   "metadata": {},
   "outputs": [
    {
     "data": {
      "text/html": [
       "<div>\n",
       "<style scoped>\n",
       "    .dataframe tbody tr th:only-of-type {\n",
       "        vertical-align: middle;\n",
       "    }\n",
       "\n",
       "    .dataframe tbody tr th {\n",
       "        vertical-align: top;\n",
       "    }\n",
       "\n",
       "    .dataframe thead th {\n",
       "        text-align: right;\n",
       "    }\n",
       "</style>\n",
       "<table border=\"1\" class=\"dataframe\">\n",
       "  <thead>\n",
       "    <tr style=\"text-align: right;\">\n",
       "      <th></th>\n",
       "      <th>string</th>\n",
       "      <th>data</th>\n",
       "    </tr>\n",
       "  </thead>\n",
       "  <tbody>\n",
       "    <tr>\n",
       "      <th>1</th>\n",
       "      <td>had</td>\n",
       "      <td>35.5000</td>\n",
       "    </tr>\n",
       "    <tr>\n",
       "      <th>2</th>\n",
       "      <td>a</td>\n",
       "      <td>4.0000</td>\n",
       "    </tr>\n",
       "    <tr>\n",
       "      <th>3</th>\n",
       "      <td>little</td>\n",
       "      <td>9.0000</td>\n",
       "    </tr>\n",
       "    <tr>\n",
       "      <th>4</th>\n",
       "      <td>lamb</td>\n",
       "      <td>-5174.4205</td>\n",
       "    </tr>\n",
       "  </tbody>\n",
       "</table>\n",
       "</div>"
      ],
      "text/plain": [
       "   string       data\n",
       "1     had    35.5000\n",
       "2       a     4.0000\n",
       "3  little     9.0000\n",
       "4    lamb -5174.4205"
      ]
     },
     "execution_count": 21,
     "metadata": {},
     "output_type": "execute_result"
    }
   ],
   "source": [
    "df = cudf.DataFrame()\n",
    "df['string'] = ['Mary', 'had', 'a', 'little', 'lamb']\n",
    "df['data'] = [68.534, 35.5, 4., 9. , -5174.42050]\n",
    "df[df['string'].str.contains('^[a-z]*$')]"
   ]
  },
  {
   "cell_type": "markdown",
   "id": "6c91d396",
   "metadata": {},
   "source": [
    "#### Counting unique words"
   ]
  },
  {
   "cell_type": "code",
   "execution_count": 47,
   "id": "9d1bdc71",
   "metadata": {},
   "outputs": [],
   "source": [
    "# get text of Hamlet\n",
    "import requests\n",
    "url = 'https://gutenberg.org/cache/epub/1524/pg1524.txt'\n",
    "content = requests.get(url).content.decode('utf-8')"
   ]
  },
  {
   "cell_type": "code",
   "execution_count": 48,
   "id": "66e2c807",
   "metadata": {},
   "outputs": [],
   "source": [
    "# strip out project Gutenberg header and footer\n",
    "lines = content.split('\\r\\n')\n",
    "# strip out license etc...\n",
    "for first,line in enumerate(lines):\n",
    "    if line == \"*** START OF THE PROJECT GUTENBERG EBOOK HAMLET ***\":\n",
    "        break\n",
    "for last,line in enumerate(lines):\n",
    "    if line == \"*** END OF THE PROJECT GUTENBERG EBOOK HAMLET ***\":\n",
    "        break\n",
    "lines = lines[first+1:last]"
   ]
  },
  {
   "cell_type": "markdown",
   "id": "7ab5e4bc",
   "metadata": {},
   "source": [
    "#### Count words using Python and the CPU"
   ]
  },
  {
   "cell_type": "code",
   "execution_count": 49,
   "id": "e415c1ae",
   "metadata": {},
   "outputs": [
    {
     "name": "stdout",
     "output_type": "stream",
     "text": [
      "CPU times: user 52.6 ms, sys: 2.82 ms, total: 55.4 ms\n",
      "Wall time: 53.9 ms\n"
     ]
    },
    {
     "data": {
      "text/plain": [
       "[('the', 951),\n",
       " ('and', 706),\n",
       " ('of', 633),\n",
       " ('to', 615),\n",
       " ('I', 613),\n",
       " ('you', 498),\n",
       " ('a', 459),\n",
       " ('my', 443),\n",
       " ('in', 426),\n",
       " ('HAMLET', 363)]"
      ]
     },
     "execution_count": 49,
     "metadata": {},
     "output_type": "execute_result"
    }
   ],
   "source": [
    "import re\n",
    "def get_word_count(text):\n",
    "    words = {}\n",
    "    for line in text:\n",
    "        for w in re.sub(\"[^a-zA-Z0-9]\", \" \", line).split():\n",
    "            try:\n",
    "                words[w] += 1\n",
    "            except KeyError:\n",
    "                words[w] = 1\n",
    "    return sorted(words.items(), key=lambda w: w[1], reverse=True)\n",
    "\n",
    "%time get_word_count(lines)[:10]"
   ]
  },
  {
   "cell_type": "markdown",
   "id": "d2d589af",
   "metadata": {},
   "source": [
    "#### Count words using cuDF and the GPU"
   ]
  },
  {
   "cell_type": "code",
   "execution_count": 53,
   "id": "a0b09b05",
   "metadata": {},
   "outputs": [
    {
     "name": "stdout",
     "output_type": "stream",
     "text": [
      "CPU times: user 25.8 ms, sys: 3 ms, total: 28.8 ms\n",
      "Wall time: 28.4 ms\n"
     ]
    },
    {
     "data": {
      "text/html": [
       "<div>\n",
       "<style scoped>\n",
       "    .dataframe tbody tr th:only-of-type {\n",
       "        vertical-align: middle;\n",
       "    }\n",
       "\n",
       "    .dataframe tbody tr th {\n",
       "        vertical-align: top;\n",
       "    }\n",
       "\n",
       "    .dataframe thead th {\n",
       "        text-align: right;\n",
       "    }\n",
       "</style>\n",
       "<table border=\"1\" class=\"dataframe\">\n",
       "  <thead>\n",
       "    <tr style=\"text-align: right;\">\n",
       "      <th></th>\n",
       "      <th>string</th>\n",
       "      <th>counts</th>\n",
       "    </tr>\n",
       "  </thead>\n",
       "  <tbody>\n",
       "    <tr>\n",
       "      <th>4854</th>\n",
       "      <td>the</td>\n",
       "      <td>951</td>\n",
       "    </tr>\n",
       "    <tr>\n",
       "      <th>2914</th>\n",
       "      <td>and</td>\n",
       "      <td>706</td>\n",
       "    </tr>\n",
       "    <tr>\n",
       "      <th>2078</th>\n",
       "      <td>of</td>\n",
       "      <td>633</td>\n",
       "    </tr>\n",
       "    <tr>\n",
       "      <th>3675</th>\n",
       "      <td>to</td>\n",
       "      <td>615</td>\n",
       "    </tr>\n",
       "    <tr>\n",
       "      <th>2228</th>\n",
       "      <td>I</td>\n",
       "      <td>613</td>\n",
       "    </tr>\n",
       "    <tr>\n",
       "      <th>3643</th>\n",
       "      <td>you</td>\n",
       "      <td>498</td>\n",
       "    </tr>\n",
       "    <tr>\n",
       "      <th>3116</th>\n",
       "      <td>a</td>\n",
       "      <td>459</td>\n",
       "    </tr>\n",
       "    <tr>\n",
       "      <th>512</th>\n",
       "      <td>my</td>\n",
       "      <td>443</td>\n",
       "    </tr>\n",
       "    <tr>\n",
       "      <th>3433</th>\n",
       "      <td>in</td>\n",
       "      <td>426</td>\n",
       "    </tr>\n",
       "    <tr>\n",
       "      <th>1821</th>\n",
       "      <td>HAMLET</td>\n",
       "      <td>363</td>\n",
       "    </tr>\n",
       "  </tbody>\n",
       "</table>\n",
       "</div>"
      ],
      "text/plain": [
       "      string  counts\n",
       "4854     the     951\n",
       "2914     and     706\n",
       "2078      of     633\n",
       "3675      to     615\n",
       "2228       I     613\n",
       "3643     you     498\n",
       "3116       a     459\n",
       "512       my     443\n",
       "3433      in     426\n",
       "1821  HAMLET     363"
      ]
     },
     "execution_count": 53,
     "metadata": {},
     "output_type": "execute_result"
    }
   ],
   "source": [
    "# stolen from https://gist.github.com/VibhuJawa/df3583ed553ac84b990619d7c49f2a73\n",
    "# which is used in https://medium.com/rapids-ai/show-me-the-word-count-3146e1173801\n",
    "def get_word_count(text):\n",
    "    \"\"\"\n",
    "        returns the count of input strings\n",
    "    \"\"\" \n",
    "    ## Tokenize: convert sentences into a long list of words\n",
    "    ## Get counts: Groupby each token to get value counts\n",
    "\n",
    "    df = cudf.DataFrame()\n",
    "    # tokenize sentences  into a nvstrings instance using nvtext.tokenize()\n",
    "    # converting it into a single tall data-frame\n",
    "    df['string'] = text.str.filter_alphanum(' ').str.tokenize()\n",
    "    # Using Group by to do a value count for string columns\n",
    "\n",
    "    df['counts'] = np.dtype('int32').type(0)\n",
    "    \n",
    "    res = df.groupby('string').count()\n",
    "    res = res.reset_index(drop=False).sort_values(by='counts', ascending=False)\n",
    "    return res\n",
    "\n",
    "text = cudf.Series(lines)\n",
    "%time get_word_count(text)[:10]"
   ]
  },
  {
   "cell_type": "markdown",
   "id": "2105bd06",
   "metadata": {},
   "source": [
    "#### Count words using C++ and the CPU"
   ]
  },
  {
   "cell_type": "code",
   "execution_count": 51,
   "id": "257092ac",
   "metadata": {},
   "outputs": [
    {
     "name": "stdout",
     "output_type": "stream",
     "text": [
      "Writing wc.cc\n"
     ]
    }
   ],
   "source": [
    "%%writefile wc.cc\n",
    "#include <algorithm>\n",
    "#include <algorithm>\n",
    "#include <cctype>\n",
    "#include <iostream>\n",
    "#include <iterator>\n",
    "#include <list>\n",
    "#include <unordered_map>\n",
    "#include <sstream>\n",
    "#include <string>\n",
    "#include <vector>\n",
    "\n",
    "#include <sys/time.h>\n",
    "\n",
    "// bunch of typedefs to make types readable\n",
    "typedef std::unordered_map<std::string, int> count_t;         // raw word count\n",
    "typedef std::list<std::string> lines_t;                       // list of lines from file\n",
    "typedef std::vector<std::pair<std::string, int> > countvec_t; // sortable container for words\n",
    "\n",
    "// helper function to compare word counts\n",
    "bool cmp(const std::pair<std::string, int>&a,\n",
    "         const std::pair<std::string, int>&b) {\n",
    "  return a.second > b.second;\n",
    "}\n",
    "\n",
    "countvec_t get_word_count(const lines_t& lines) {\n",
    "  count_t count;\n",
    "\n",
    "  // remove non-alnum chars, split each line into words, and count those words\n",
    "  for(auto line: lines) {\n",
    "    for(auto &c: line) {\n",
    "      if(!isalnum(c))\n",
    "        c = ' ';\n",
    "    }\n",
    "\n",
    "    std::stringstream iss(line);\n",
    "    std::string word;\n",
    "    while(iss >> word) {\n",
    "      count[word] += 1;\n",
    "    }\n",
    "  }\n",
    "\n",
    "  // now sort by number of occurrences\n",
    "  countvec_t countvec(count.size());\n",
    "  std::move(count.begin(), count.end(), countvec.begin());\n",
    "  std::sort(countvec.begin(), countvec.end(), cmp);\n",
    "\n",
    "  return countvec;\n",
    "}\n",
    "\n",
    "int main(void) {\n",
    "  // read in all lines from file\n",
    "  lines_t lines;\n",
    "  while(!std::cin.eof()) {\n",
    "    std::string line;\n",
    "    std::getline(std::cin, line);\n",
    "    lines.push_back(line);\n",
    "  }\n",
    "\n",
    "  // time actual word count and list construction\n",
    "  struct timeval start, end;\n",
    "  gettimeofday(&start, NULL);\n",
    "  countvec_t countvec = get_word_count(lines);\n",
    "  gettimeofday(&end, NULL);\n",
    "\n",
    "  // all done, show results\n",
    "  double dt = (end.tv_sec - (double)start.tv_sec) + (end.tv_usec - (double)start.tv_usec)/1e6;\n",
    "  std::cout << \"took \" << dt*1e3 << \"ms\\n\";\n",
    "\n",
    "  for(auto c: countvec) {\n",
    "    std::cout << c.first << \": \" << c.second << \"\\n\";\n",
    "  }\n",
    "    \n",
    "  return 0;\n",
    "}"
   ]
  },
  {
   "cell_type": "code",
   "execution_count": 52,
   "id": "ddcb63eb",
   "metadata": {},
   "outputs": [
    {
     "name": "stdout",
     "output_type": "stream",
     "text": [
      "took 20.969ms\n",
      "the: 951\n",
      "and: 706\n",
      "of: 633\n",
      "to: 615\n",
      "I: 613\n",
      "you: 498\n",
      "a: 459\n",
      "my: 443\n",
      "in: 426\n"
     ]
    }
   ],
   "source": [
    "! g++ -O3 -std=c++11 -o wc wc.cc\n",
    "import os\n",
    "with os.popen(\"./wc | head -n 10\", \"w\") as wc:\n",
    "    wc.write(\"\\n\".join(lines))"
   ]
  },
  {
   "cell_type": "markdown",
   "id": "cd4d40a8",
   "metadata": {},
   "source": [
    "## References\n",
    "\n",
    "* [cuDF](https://github.com/rapidsai/cudf) GitHub repository\n",
    "  * Pandas [compatibility notes](https://docs.rapids.ai/api/cudf/stable/basics/PandasCompat.html)\n",
    "* [Pandas](https://pandas.pydata.org/) home page\n",
    "* [NERSC](https://www.nersc.gov/users/training/events/rapids-hackathon/) hackathon on cuFG\n",
    "* [forall](https://numba.pydata.org/numba-doc/dev/cuda-reference/kernel.html#numba.cuda.compiler.Dispatcher.forall) Numba `forall` dispatcher\n",
    "* [String API](https://docs.rapids.ai/api/cudf/stable/api.html#strings)"
   ]
  },
  {
   "cell_type": "code",
   "execution_count": null,
   "id": "49ce74c2",
   "metadata": {},
   "outputs": [],
   "source": []
  }
 ],
 "metadata": {
  "kernelspec": {
   "display_name": "Rapids 22.04",
   "language": "python",
   "name": "rapids-22.04"
  },
  "language_info": {
   "codemirror_mode": {
    "name": "ipython",
    "version": 3
   },
   "file_extension": ".py",
   "mimetype": "text/x-python",
   "name": "python",
   "nbconvert_exporter": "python",
   "pygments_lexer": "ipython3",
   "version": "3.9.12"
  }
 },
 "nbformat": 4,
 "nbformat_minor": 5
}
